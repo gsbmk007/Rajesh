{
  "nbformat": 4,
  "nbformat_minor": 0,
  "metadata": {
    "colab": {
      "provenance": [],
      "collapsed_sections": [],
      "authorship_tag": "ABX9TyN8vvWcGpVt6MXeHG2UPXPm",
      "include_colab_link": true
    },
    "kernelspec": {
      "name": "python3",
      "display_name": "Python 3"
    },
    "language_info": {
      "name": "python"
    }
  },
  "cells": [
    {
      "cell_type": "markdown",
      "metadata": {
        "id": "view-in-github",
        "colab_type": "text"
      },
      "source": [
        "<a href=\"https://colab.research.google.com/github/gsbmk007/Rajesh/blob/main/Final_5.ipynb\" target=\"_parent\"><img src=\"https://colab.research.google.com/assets/colab-badge.svg\" alt=\"Open In Colab\"/></a>"
      ]
    },
    {
      "cell_type": "code",
      "source": [
        "#Pyinputplus is a dependency for this software\n",
        "!pip install pyinputplus"
      ],
      "metadata": {
        "id": "murgqcR3bYcQ"
      },
      "execution_count": null,
      "outputs": []
    },
    {
      "cell_type": "code",
      "execution_count": null,
      "metadata": {
        "id": "uUcDcucibXEB"
      },
      "outputs": [],
      "source": [
        "\n",
        "#We import csv module which contains classes to read and write tabular data in CSV format.\n",
        "import csv    \n",
        "\n",
        "\n",
        "#We import pyinputplus module which contains functions for additional validation features such as integer or float etc...\n",
        "import pyinputplus as pyip \n",
        "\n",
        "\n",
        "#We used Open function which opens a file and returns it as a file object. \n",
        "#Argument 'w' Open to file for writing or creates it if the file does not exist.\n",
        "file = open('emp_details.csv',mode='w')\n",
        "\n",
        "#Argument 'r' Opens a file for reading or returns at out of the file does not exist.\n",
        "filer = open('emp_details.csv',mode='r')\n",
        "\n",
        "# With the use of csv.writer it enables python to write onto files row by row\n",
        "file_writer = csv.writer(file)\n",
        "\n",
        "#We write our first Row which helps us navigate through the table\n",
        "file_writer.writerow(['name','Mon','Tue','Wed','Thur','Fri','TotalWeeklySales','WeeklyAverage'])\n",
        "\n",
        "#Asks the user for employee name and sales on each day for 5 times\n",
        "for i in range(5):\n",
        "  employeeName=str(input(\"Enter the name of the employee: \"))\n",
        "  mondaySales=pyip.inputFloat(\"Enter the sales on Monday: \")\n",
        "  tuesdaySales=pyip.inputFloat(\"Enter the sales on Tuesday: \")\n",
        "  wednesdaySales=pyip.inputFloat(\"Enter the sales on Wednesday: \")\n",
        "  thursdaySales=pyip.inputFloat(\"Enter the sales on Thursday: \")\n",
        "  fridaySales=pyip.inputFloat(\"Enter the sales on Friday: \")\n",
        "  totalSales=mondaySales+tuesdaySales+wednesdaySales+thursdaySales+fridaySales\n",
        "  weeklyAverageSales=totalSales/5\n",
        "  file_writer.writerow([employeeName,mondaySales,tuesdaySales,wednesdaySales,thursdaySales,fridaySales,totalSales,weeklyAverageSales])\n",
        " \n",
        "#Pandas is a data manuplation package which is used here to handle CSV files, as they have short syntax and easy to use. \n",
        "import pandas as pd\n",
        "\n",
        "#We then used matplotlib to visually represent the data.\n",
        "from matplotlib import pyplot as plt\n",
        "\n",
        "#We use Pandas inbuilt function pd.read_csv to prepare the data which can be then used by pyplot.\n",
        "data=pd.read_csv(\"emp_details.csv\")\n",
        "\n",
        "#We use Pyplot to plot the name vs WeeklyAverage graph.\n",
        "plt.plot(data['name'], data['WeeklyAverage'])\n",
        "\n",
        "#We use Pyplot to plot the name vs TotalWeeklySales graph.\n",
        "plt.plot(data['name'], data['TotalWeeklySales'])\n",
        "\n",
        "#Final output for all the cod3e8.\n",
        "print(data)\n",
        "\n",
        "\n",
        "\n",
        "\t\t"
      ]
    }
  ]
}