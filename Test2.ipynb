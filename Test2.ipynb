{
  "nbformat": 4,
  "nbformat_minor": 0,
  "metadata": {
    "colab": {
      "provenance": [],
      "collapsed_sections": [],
      "authorship_tag": "ABX9TyNXWy0sMZFO3Jnrcm6Bdx3m",
      "include_colab_link": true
    },
    "kernelspec": {
      "name": "python3",
      "display_name": "Python 3"
    },
    "language_info": {
      "name": "python"
    }
  },
  "cells": [
    {
      "cell_type": "markdown",
      "metadata": {
        "id": "view-in-github",
        "colab_type": "text"
      },
      "source": [
        "<a href=\"https://colab.research.google.com/github/gsbmk007/Rajesh/blob/main/Test2.ipynb\" target=\"_parent\"><img src=\"https://colab.research.google.com/assets/colab-badge.svg\" alt=\"Open In Colab\"/></a>"
      ]
    },
    {
      "cell_type": "code",
      "source": [
        "!pip install pyinputplus"
      ],
      "metadata": {
        "colab": {
          "base_uri": "https://localhost:8080/"
        },
        "id": "Falt2wmzyclC",
        "outputId": "26debeda-84f8-4ce0-fbbb-caaad7655f9c"
      },
      "execution_count": 2,
      "outputs": [
        {
          "output_type": "stream",
          "name": "stdout",
          "text": [
            "Looking in indexes: https://pypi.org/simple, https://us-python.pkg.dev/colab-wheels/public/simple/\n",
            "Collecting pyinputplus\n",
            "  Downloading PyInputPlus-0.2.12.tar.gz (20 kB)\n",
            "  Installing build dependencies ... \u001b[?25l\u001b[?25hdone\n",
            "  Getting requirements to build wheel ... \u001b[?25l\u001b[?25hdone\n",
            "    Preparing wheel metadata ... \u001b[?25l\u001b[?25hdone\n",
            "Collecting stdiomask>=0.0.3\n",
            "  Downloading stdiomask-0.0.6.tar.gz (3.6 kB)\n",
            "  Installing build dependencies ... \u001b[?25l\u001b[?25hdone\n",
            "  Getting requirements to build wheel ... \u001b[?25l\u001b[?25hdone\n",
            "    Preparing wheel metadata ... \u001b[?25l\u001b[?25hdone\n",
            "Collecting pysimplevalidate>=0.2.7\n",
            "  Downloading PySimpleValidate-0.2.12.tar.gz (22 kB)\n",
            "  Installing build dependencies ... \u001b[?25l\u001b[?25hdone\n",
            "  Getting requirements to build wheel ... \u001b[?25l\u001b[?25hdone\n",
            "    Preparing wheel metadata ... \u001b[?25l\u001b[?25hdone\n",
            "Building wheels for collected packages: pyinputplus, pysimplevalidate, stdiomask\n",
            "  Building wheel for pyinputplus (PEP 517) ... \u001b[?25l\u001b[?25hdone\n",
            "  Created wheel for pyinputplus: filename=PyInputPlus-0.2.12-py3-none-any.whl size=11315 sha256=6db9c8a2d44d1c000709c5ee63a3e5f9d0649f178dac69472e88754dd6b84f65\n",
            "  Stored in directory: /root/.cache/pip/wheels/e7/33/73/719f8f1bd984d39face880fd22f6c5ef1b85f726e84c687094\n",
            "  Building wheel for pysimplevalidate (PEP 517) ... \u001b[?25l\u001b[?25hdone\n",
            "  Created wheel for pysimplevalidate: filename=PySimpleValidate-0.2.12-py3-none-any.whl size=16193 sha256=8641c3ac17d1b37df6b4a9c5e110cb836b8d9ecf04c7864e431ab9ae2b488c3d\n",
            "  Stored in directory: /root/.cache/pip/wheels/5a/8b/6c/2925d22b93860bdc9b8ce02c3d2cf79336606f7469cef66065\n",
            "  Building wheel for stdiomask (PEP 517) ... \u001b[?25l\u001b[?25hdone\n",
            "  Created wheel for stdiomask: filename=stdiomask-0.0.6-py3-none-any.whl size=3321 sha256=e0b7b1c21405f57be76069551c7f6913b4860e962a082f54e55c306c456197c1\n",
            "  Stored in directory: /root/.cache/pip/wheels/cf/13/89/64d0d3b167759523f4c1e68f883bbc30e7bfa27050edeb418e\n",
            "Successfully built pyinputplus pysimplevalidate stdiomask\n",
            "Installing collected packages: stdiomask, pysimplevalidate, pyinputplus\n",
            "Successfully installed pyinputplus-0.2.12 pysimplevalidate-0.2.12 stdiomask-0.0.6\n"
          ]
        }
      ]
    },
    {
      "cell_type": "code",
      "execution_count": 11,
      "metadata": {
        "colab": {
          "base_uri": "https://localhost:8080/"
        },
        "id": "QZGUuNXMyNOx",
        "outputId": "46dc735f-1aa3-4ce3-9b73-adc1e79968d3"
      },
      "outputs": [
        {
          "output_type": "stream",
          "name": "stdout",
          "text": [
            "Enter the name of the employee: John\n",
            "Enter the sales on Monday: 150\n",
            "Enter the sales on Tuesday: 200\n",
            "Enter the sales on Wednesday: 220\n",
            "Enter the sales on Thursday: 200\n",
            "Enter the sales on Friday: 125\n",
            "Enter the name of the employee: Alice\n",
            "Enter the sales on Monday: 100\n",
            "Enter the sales on Tuesday: 250\n",
            "Enter the sales on Wednesday: 120\n",
            "Enter the sales on Thursday: 180\n",
            "Enter the sales on Friday: 150\n",
            "Enter the name of the employee: Daisy\n",
            "Enter the sales on Monday: 80\n",
            "Enter the sales on Tuesday: 130\n",
            "Enter the sales on Wednesday: 108\n",
            "Enter the sales on Thursday: 50\n",
            "Enter the sales on Friday: 200\n",
            "Enter the name of the employee: Lilly\n",
            "Enter the sales on Monday: 200\n",
            "Enter the sales on Tuesday: 300\n",
            "Enter the sales on Wednesday: 220\n",
            "Enter the sales on Thursday: 280\n",
            "Enter the sales on Friday: 185\n",
            "Enter the name of the employee: Ronny\n",
            "Enter the sales on Monday: 120\n",
            "Enter the sales on Tuesday: 155\n",
            "Enter the sales on Wednesday: 350\n",
            "Enter the sales on Thursday: 200\n",
            "Enter the sales on Friday: 150\n",
            "['name', 'Mon', 'Tue', 'Wed', 'Thur', 'Fri', 'TotalWeeklySales', 'WeeklyAverage']\n",
            "['John', '150.0', '200.0', '220.0', '200.0', '125.0', '895.0', '179.0']\n",
            "['Alice', '100.0', '250.0', '120.0', '180.0', '150.0', '800.0', '160.0']\n",
            "['Daisy', '80.0', '130.0', '108.0', '50.0', '200.0', '568.0', '113.6']\n",
            "['Lilly', '200.0', '300.0', '220.0', '280.0', '185.0', '1185.0', '237.0']\n",
            "['Ronny', '120.0', '155.0', '350.0', '200.0', '150.0', '975.0', '195.0']\n"
          ]
        }
      ],
      "source": [
        "\n",
        "#validation and fixed weekley avg sales\n",
        "import csv\n",
        "# import matplotlib\n",
        "# import pandas as pd\n",
        "\n",
        "import pyinputplus as pyip\n",
        "# \n",
        "\n",
        "#Open the file and sets to write mode \n",
        "file = open('emp_details.csv',mode='w')\n",
        "filer = open('emp_details.csv',mode='r')\n",
        "\n",
        "file_writer = csv.writer(file)\n",
        "\n",
        "file_writer.writerow(['name','Mon','Tue','Wed','Thur','Fri','TotalWeeklySales','WeeklyAverage'])\n",
        "#Asks the user for employee name and sales on each day \n",
        "for i in range(5):\n",
        "\temployeeName=str(input(\"Enter the name of the employee: \"))\n",
        "\tmondaySales=pyip.inputFloat(\"Enter the sales on Monday: \")\n",
        "\ttuesdaySales=pyip.inputFloat(\"Enter the sales on Tuesday: \")\n",
        "\twednesdaySales=pyip.inputFloat(\"Enter the sales on Wednesday: \")\n",
        "\tthursdaySales=pyip.inputFloat(\"Enter the sales on Thursday: \")\n",
        "\tfridaySales=pyip.inputFloat(\"Enter the sales on Friday: \")\n",
        "\ttotalSales=mondaySales+tuesdaySales+wednesdaySales+thursdaySales+fridaySales\n",
        "\tweeklyAverageSales=totalSales/5\n",
        "\tfile_writer.writerow([employeeName,mondaySales,tuesdaySales,wednesdaySales,thursdaySales,fridaySales,totalSales,weeklyAverageSales])\n",
        " \n",
        "\n",
        " #GTG\n",
        "file.close()\n",
        "csvreader = csv.reader(filer)\n",
        "for row in csvreader:\n",
        "\tprint(row)\n",
        "#Works good 1:282.3322\n",
        "\n",
        "\n",
        "\n",
        "\t\t"
      ]
    },
    {
      "cell_type": "markdown",
      "source": [
        "Testing pandas"
      ],
      "metadata": {
        "id": "SHw5yoGsyRIu"
      }
    },
    {
      "cell_type": "code",
      "source": [
        "import csv\n",
        "# import matplotlib\n",
        "# import pandas as pd\n",
        "\n",
        "# import pyinputplus as pyip\n",
        "import pandas as pd\n",
        "from matplotlib import pyplot as plt\n",
        "import os\n",
        "# \n",
        "\n",
        "#Open the file and sets to write mode \n",
        "file = open('emp_details.csv',mode='r')\n",
        "\n",
        "\n",
        "csvreader = csv.reader(file)\n",
        "\n",
        "for row in csvreader:\n",
        "\tprint(row)\n",
        "\t# print(\"hi\")\n",
        "\n",
        "\n",
        " #GTG\n",
        "csvreader = csv.reader(filer)\n",
        "for row in csvreader:\n",
        "\tprint(row)\n",
        "data=pd.read_csv(\"emp_details.csv\")\n",
        "plt.plot(data['name'], data['WeeklyAverage'])\n",
        "plt.plot(data['name'], data['TotalWeeklySales'])\n",
        "\n",
        "print(data)\n",
        "\n",
        "\n",
        "\n",
        "\n",
        "\n",
        "\n",
        "\n",
        "\t\t"
      ],
      "metadata": {
        "colab": {
          "base_uri": "https://localhost:8080/",
          "height": 469
        },
        "id": "tbxZuwNyyXGU",
        "outputId": "56dc1c16-db00-4592-8e0e-ab9472b28038"
      },
      "execution_count": 13,
      "outputs": [
        {
          "output_type": "stream",
          "name": "stdout",
          "text": [
            "['name', 'Mon', 'Tue', 'Wed', 'Thur', 'Fri', 'TotalWeeklySales', 'WeeklyAverage']\n",
            "['John', '150.0', '200.0', '220.0', '200.0', '125.0', '895.0', '179.0']\n",
            "['Alice', '100.0', '250.0', '120.0', '180.0', '150.0', '800.0', '160.0']\n",
            "['Daisy', '80.0', '130.0', '108.0', '50.0', '200.0', '568.0', '113.6']\n",
            "['Lilly', '200.0', '300.0', '220.0', '280.0', '185.0', '1185.0', '237.0']\n",
            "['Ronny', '120.0', '155.0', '350.0', '200.0', '150.0', '975.0', '195.0']\n",
            "    name    Mon    Tue    Wed   Thur    Fri  TotalWeeklySales  WeeklyAverage\n",
            "0   John  150.0  200.0  220.0  200.0  125.0             895.0          179.0\n",
            "1  Alice  100.0  250.0  120.0  180.0  150.0             800.0          160.0\n",
            "2  Daisy   80.0  130.0  108.0   50.0  200.0             568.0          113.6\n",
            "3  Lilly  200.0  300.0  220.0  280.0  185.0            1185.0          237.0\n",
            "4  Ronny  120.0  155.0  350.0  200.0  150.0             975.0          195.0\n"
          ]
        },
        {
          "output_type": "display_data",
          "data": {
            "text/plain": [
              "<Figure size 432x288 with 1 Axes>"
            ],
            "image/png": "[encoded data removed]"
          },
          "metadata": {
            "needs_background": "light"
          }
        }
      ]
    },
    {
      "cell_type": "code",
      "source": [
        "import pandas as pd\n",
        "# import os\n",
        "\n",
        "# print(os.system(\"ls\"))\n",
        "\n",
        "# file = open('employee_details.csv',mode='r')\n",
        "print('hi')\n",
        "df = pd.read_csv (r'emp_details.csv')\n",
        "print(df)\n",
        "df=df.drop('name', axis=1).sum(axis=1)\n",
        "# print(df['sum'])\n",
        "print(df)\n",
        "\n",
        "\n",
        "\n"
      ],
      "metadata": {
        "colab": {
          "base_uri": "https://localhost:8080/"
        },
        "id": "i_okcG6iyQwC",
        "outputId": "3898a7f6-8cd2-44f1-d7dc-f0cfaea2065c"
      },
      "execution_count": 7,
      "outputs": [
        {
          "output_type": "stream",
          "name": "stdout",
          "text": [
            "hi\n",
            "  name   Mon   Tue   Wed  Thur   Fri  TotalWeeklySales  WeeklyAverage\n",
            "0   gg  33.0  34.0  12.0   3.3   3.0              85.3          17.06\n",
            "1   ga  23.3  23.4  45.6  54.5  55.4             202.2          40.44\n",
            "0    187.66\n",
            "1    444.84\n",
            "dtype: float64\n"
          ]
        }
      ]
    }
  ]
}