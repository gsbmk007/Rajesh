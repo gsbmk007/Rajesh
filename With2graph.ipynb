{
  "nbformat": 4,
  "nbformat_minor": 0,
  "metadata": {
    "colab": {
      "provenance": [],
      "authorship_tag": "ABX9TyM2wz86+ab1NA+uDIZV/Tgb",
      "include_colab_link": true
    },
    "kernelspec": {
      "name": "python3",
      "display_name": "Python 3"
    },
    "language_info": {
      "name": "python"
    }
  },
  "cells": [
    {
      "cell_type": "markdown",
      "metadata": {
        "id": "view-in-github",
        "colab_type": "text"
      },
      "source": [
        "<a href=\"https://colab.research.google.com/github/gsbmk007/Rajesh/blob/main/With2graph.ipynb\" target=\"_parent\"><img src=\"https://colab.research.google.com/assets/colab-badge.svg\" alt=\"Open In Colab\"/></a>"
      ]
    },
    {
      "cell_type": "code",
      "execution_count": 1,
      "metadata": {
        "colab": {
          "base_uri": "https://localhost:8080/"
        },
        "id": "XkkG-4CQ6rtl",
        "outputId": "bbb31a19-569f-444c-dbb3-81c63045aa33"
      },
      "outputs": [
        {
          "output_type": "stream",
          "name": "stdout",
          "text": [
            "Looking in indexes: https://pypi.org/simple, https://us-python.pkg.dev/colab-wheels/public/simple/\n",
            "Collecting pyinputplus\n",
            "  Downloading PyInputPlus-0.2.12.tar.gz (20 kB)\n",
            "  Installing build dependencies ... \u001b[?25l\u001b[?25hdone\n",
            "  Getting requirements to build wheel ... \u001b[?25l\u001b[?25hdone\n",
            "    Preparing wheel metadata ... \u001b[?25l\u001b[?25hdone\n",
            "Collecting pysimplevalidate>=0.2.7\n",
            "  Downloading PySimpleValidate-0.2.12.tar.gz (22 kB)\n",
            "  Installing build dependencies ... \u001b[?25l\u001b[?25hdone\n",
            "  Getting requirements to build wheel ... \u001b[?25l\u001b[?25hdone\n",
            "    Preparing wheel metadata ... \u001b[?25l\u001b[?25hdone\n",
            "Collecting stdiomask>=0.0.3\n",
            "  Downloading stdiomask-0.0.6.tar.gz (3.6 kB)\n",
            "  Installing build dependencies ... \u001b[?25l\u001b[?25hdone\n",
            "  Getting requirements to build wheel ... \u001b[?25l\u001b[?25hdone\n",
            "    Preparing wheel metadata ... \u001b[?25l\u001b[?25hdone\n",
            "Building wheels for collected packages: pyinputplus, pysimplevalidate, stdiomask\n",
            "  Building wheel for pyinputplus (PEP 517) ... \u001b[?25l\u001b[?25hdone\n",
            "  Created wheel for pyinputplus: filename=PyInputPlus-0.2.12-py3-none-any.whl size=11315 sha256=006db64b128c9e80d986f3a803a037c52bbfcb5062f33ec7e98af342d40e9b64\n",
            "  Stored in directory: /root/.cache/pip/wheels/e7/33/73/719f8f1bd984d39face880fd22f6c5ef1b85f726e84c687094\n",
            "  Building wheel for pysimplevalidate (PEP 517) ... \u001b[?25l\u001b[?25hdone\n",
            "  Created wheel for pysimplevalidate: filename=PySimpleValidate-0.2.12-py3-none-any.whl size=16193 sha256=b42513b9e727dd1f3c23d33fdea108deb8fc16981c4ad53937730ea0743bf8d8\n",
            "  Stored in directory: /root/.cache/pip/wheels/5a/8b/6c/2925d22b93860bdc9b8ce02c3d2cf79336606f7469cef66065\n",
            "  Building wheel for stdiomask (PEP 517) ... \u001b[?25l\u001b[?25hdone\n",
            "  Created wheel for stdiomask: filename=stdiomask-0.0.6-py3-none-any.whl size=3321 sha256=1bcc4d9b3759391baa05ff3b92801178be01ac2ce11be0269e60d8d5e7ccb764\n",
            "  Stored in directory: /root/.cache/pip/wheels/cf/13/89/64d0d3b167759523f4c1e68f883bbc30e7bfa27050edeb418e\n",
            "Successfully built pyinputplus pysimplevalidate stdiomask\n",
            "Installing collected packages: stdiomask, pysimplevalidate, pyinputplus\n",
            "Successfully installed pyinputplus-0.2.12 pysimplevalidate-0.2.12 stdiomask-0.0.6\n"
          ]
        }
      ],
      "source": [
        "!pip install pyinputplus"
      ]
    },
    {
      "cell_type": "code",
      "source": [
        "\n",
        "#We import csv module which contains classes to read and write tabular data in CSV format.\n",
        "import csv    \n",
        "\n",
        "#We import pyinputplus module which contains functions for additional validation features such as integer or float etc...\n",
        "import pyinputplus as pyip \n",
        "\n",
        "\n",
        "#We used Open function which opens a file and returns it as a file object. \n",
        "#Argument 'w' Open to file for writing or creates it if the file does not exist.\n",
        "# file = open('emp_details.csv',mode='w')\n",
        "\n",
        "#Argument 'r' Opens a file for reading or returns at out of the file does not exist.\n",
        "filer = open('emp_details.csv',mode='r')\n",
        "\n",
        "# With the use of csv.writer it enables python to write onto files row by row\n",
        "file_writer = csv.writer(file)\n",
        "\n",
        "#We write our first Row which helps us navigate through the table\n",
        "file_writer.writerow(['name','Mon','Tue','Wed','Thur','Fri','TotalWeeklySales','WeeklyAverage'])\n",
        "\n",
        "#Asks the user for employee name and sales on each day for 5 times\n",
        "for i in range(5):\n",
        "  employeeName=str(input(\"Enter the name of the employee: \"))\n",
        "  mondaySales=pyip.inputFloat(\"Enter the sales on Monday: \")\n",
        "  tuesdaySales=pyip.inputFloat(\"Enter the sales on Tuesday: \")\n",
        "  wednesdaySales=pyip.inputFloat(\"Enter the sales on Wednesday: \")\n",
        "  thursdaySales=pyip.inputFloat(\"Enter the sales on Thursday: \")\n",
        "  fridaySales=pyip.inputFloat(\"Enter the sales on Friday: \")\n",
        "  totalSales=mondaySales+tuesdaySales+wednesdaySales+thursdaySales+fridaySales\n",
        "  weeklyAverageSales=totalSales/5\n",
        "  file_writer.writerow([employeeName,mondaySales,tuesdaySales,wednesdaySales,thursdaySales,fridaySales,totalSales,weeklyAverageSales])\n",
        " \n",
        "#Pandas is a data manuplation package which is used here to handle CSV files, as they have short syntax and easy to use. \n",
        "import pandas as pd\n",
        "\n",
        "#We then used matplotlib to visually represent the data.\n",
        "from matplotlib import pyplot as plt\n",
        "\n",
        "#We use Pandas inbuilt function pd.read_csv to prepare the data which can be then used by pyplot.\n",
        "data=pd.read_csv(\"emp_details.csv\")\n",
        "print(data)\n",
        "file.close()\n",
        "\n",
        "\n",
        "#We use Pyplot to plot the name vs WeeklyAverage graph.\n",
        "plt.plot(data['name'], data['WeeklyAverage'])\n",
        "\n",
        "#We use Pyplot to plot the name vs TotalWeeklySales graph.\n",
        "ax=plt.plot(data['name'], data['TotalWeeklySales'])\n",
        "\n",
        "#We use the The inbuilt Bar graph function to plot \n",
        "data.plot(x=\"name\", y=[\"Mon\", \"Tue\", \"Wed\", \"Thur\", \"Fri\"], kind=\"bar\",title='Weekly Sales Graph')\n",
        "\n",
        "\n",
        "#Final output for all thecode.\n",
        "# print(data)\n",
        "\n",
        "\n",
        "\n",
        "\n",
        "\t\t"
      ],
      "metadata": {
        "colab": {
          "base_uri": "https://localhost:8080/",
          "height": 666
        },
        "id": "oodX1hQH6uRp",
        "outputId": "b0b24c44-ff47-4f3e-ca81-a9ae1ac2d201"
      },
      "execution_count": 5,
      "outputs": [
        {
          "output_type": "stream",
          "name": "stdout",
          "text": [
            "    name    Mon    Tue    Wed   Thur    Fri  TotalWeeklySales  WeeklyAverage\n",
            "0   John  250.0  120.0  180.0  150.0  800.0             160.0            NaN\n",
            "1  Daisy   80.0  130.0  108.0  250.0  200.0             768.0          153.6\n",
            "2   Lily  200.0  300.0  220.0  280.0  185.0            1185.0          237.0\n",
            "3  Ronny  120.0  155.0  350.0  200.0  150.0             975.0          195.0\n"
          ]
        },
        {
          "output_type": "execute_result",
          "data": {
            "text/plain": [
              "<matplotlib.axes._subplots.AxesSubplot at 0x7f4d051d8790>"
            ]
          },
          "metadata": {},
          "execution_count": 5
        },
        {
          "output_type": "display_data",
          "data": {
            "text/plain": [
              "<Figure size 432x288 with 1 Axes>"
            ],
            "image/png": "[encoded data removed]"
          },
          "metadata": {
            "needs_background": "light"
          }
        },
        {
          "output_type": "display_data",
          "data": {
            "text/plain": [
              "<Figure size 432x288 with 1 Axes>"
            ],
            "image/png": "[encoded data removed]"
          },
          "metadata": {
            "needs_background": "light"
          }
        }
      ]
    }
  ]
}